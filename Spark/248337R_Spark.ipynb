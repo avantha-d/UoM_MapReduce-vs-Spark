{
  "nbformat": 4,
  "nbformat_minor": 0,
  "metadata": {
    "colab": {
      "provenance": []
    },
    "kernelspec": {
      "name": "python3",
      "display_name": "Python 3"
    },
    "language_info": {
      "name": "python"
    }
  },
  "cells": [
    {
      "cell_type": "code",
      "execution_count": null,
      "metadata": {
        "id": "5Ub65rxhKvti"
      },
      "outputs": [],
      "source": [
        "# Setting up spark:\n",
        "\n",
        "spark-sql;\n",
        "\n",
        "\n",
        "# Spark queries (repeated 5 times for iterations):\n",
        "\n",
        "SELECT Year, avg((CarrierDelay /ArrDelay)*100) from flightdelays GROUP BY Year;\n",
        "SELECT Year, avg((NASDelay /ArrDelay)*100) from flightdelays GROUP BY Year;\n",
        "SELECT Year, avg((WeatherDelay /ArrDelay)*100) from flightdelays GROUP BY Year;\n",
        "SELECT Year, avg((SecurityDelay /ArrDelay)*100) from flightdelays GROUP BY Year;\n",
        "SELECT Year, avg((LateAircraftDelay /ArrDelay)*100) from flightdelays GROUP BY Year;"
      ]
    }
  ]
}
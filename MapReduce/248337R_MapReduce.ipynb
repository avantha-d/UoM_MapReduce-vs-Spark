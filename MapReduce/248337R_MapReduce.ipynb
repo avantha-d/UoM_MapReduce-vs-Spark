{
  "nbformat": 4,
  "nbformat_minor": 0,
  "metadata": {
    "colab": {
      "provenance": []
    },
    "kernelspec": {
      "name": "python3",
      "display_name": "Python 3"
    },
    "language_info": {
      "name": "python"
    }
  },
  "cells": [
    {
      "cell_type": "code",
      "execution_count": null,
      "metadata": {
        "id": "DiXmDnZNIvah"
      },
      "outputs": [],
      "source": [
        "# Setting up the environment:\n",
        "\n",
        "sudo chown hadoop -R /var/log/hive\n",
        "mkdir /var/log/hive/user/hadoop\n",
        "hive -d SAMPLE=s3://aws-tc-largeobjects/CUR-TF-200-ACDENG-1/emr-lab -d DAY=2009-04-13 -d HOUR=08 -d NEXT_DAY=2009-04-13 -d NEXT_HOUR=09 -d OUTPUT=s3://flightdelays/output/\n",
        "\n",
        "\n",
        "# Creating external table:\n",
        "\n",
        "CREATE EXTERNAL TABLE flightdelays (Year INT, ArrDelay INT, CarrierDelay INT, WeatherDelay INT, NASDelay INT, SecurityDelay INT, LateAircraftDelay INT) ROW FORMAT DELIMITED FIELDS TERMINATED BY ',' LOCATION 's3://flightdelays/inputs/';\n",
        "\n",
        "\n",
        "# Loading data to the table:\n",
        "\n",
        "LOAD DATA INPATH 's3://flightdelays/inputs/DelayedFlights-updated.csv' INTO TABLE flightdelays;\n",
        "\n",
        "\n",
        "# Hive queries (repeated 5 times for iterations):\n",
        "\n",
        "SELECT Year, avg((CarrierDelay /ArrDelay)*100) from flightdelays GROUP BY Year;\n",
        "SELECT Year, avg((NASDelay /ArrDelay)*100) from flightdelays GROUP BY Year;\n",
        "SELECT Year, avg((WeatherDelay /ArrDelay)*100) from flightdelays GROUP BY Year;\n",
        "SELECT Year, avg((SecurityDelay /ArrDelay)*100) from flightdelays GROUP BY Year;\n",
        "SELECT Year, avg((LateAircraftDelay /ArrDelay)*100) from flightdelays GROUP BY Year;"
      ]
    }
  ]
}